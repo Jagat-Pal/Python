{
  "cells": [
    {
      "cell_type": "markdown",
      "metadata": {
        "id": "view-in-github",
        "colab_type": "text"
      },
      "source": [
        "<a href=\"https://colab.research.google.com/github/Jagat-Pal/Python/blob/main/strings.ipynb\" target=\"_parent\"><img src=\"https://colab.research.google.com/assets/colab-badge.svg\" alt=\"Open In Colab\"/></a>"
      ]
    },
    {
      "cell_type": "markdown",
      "metadata": {
        "id": "tdT_IP3Pmr0m"
      },
      "source": [
        "## Introduction to Strings"
      ]
    },
    {
      "cell_type": "markdown",
      "metadata": {
        "id": "i_QBxEJymr0n"
      },
      "source": [
        "* Strings are used in Python to record text information, such as names.\n",
        "\n",
        "* It could either be a word, a phrase, a sentence, a paragraph or an entire encyclopedia.\n",
        "\n",
        "* Strings in Python are actually a *sequence*, which     basically means Python keeps track of every element in the string as a sequence.\n",
        "\n",
        "* For example, Python understands the string \"Machine\" to be a sequence of letters in a specific order.\n",
        "\n",
        "* This means we will be able to use indexing to grab particular letters (like the first letter, or the last letter).\n",
        "\n"
      ]
    },
    {
      "cell_type": "markdown",
      "metadata": {
        "id": "w_7O10QKmr0o"
      },
      "source": [
        "###  Creating a String\n",
        "* To create a string in Python you need to use either single quotes, double quotes and triple quotes. For example:"
      ]
    },
    {
      "cell_type": "code",
      "execution_count": null,
      "metadata": {
        "colab": {
          "base_uri": "https://localhost:8080/",
          "height": 36
        },
        "id": "XMd1nYlKmr0p",
        "outputId": "38f93a8b-2d45-4e2a-bb73-fa70d5c35b2d"
      },
      "outputs": [
        {
          "output_type": "execute_result",
          "data": {
            "text/plain": [
              "'Machine learning'"
            ],
            "application/vnd.google.colaboratory.intrinsic+json": {
              "type": "string"
            }
          },
          "metadata": {},
          "execution_count": 1
        }
      ],
      "source": [
        "# Single quotes\n",
        "my_string = 'Machine learning'\n",
        "my_string"
      ]
    },
    {
      "cell_type": "code",
      "execution_count": null,
      "metadata": {
        "colab": {
          "base_uri": "https://localhost:8080/",
          "height": 36
        },
        "id": "iaz2basTmr0t",
        "outputId": "a7ddd2ab-ac42-401b-b81b-be11f0b64b62"
      },
      "outputs": [
        {
          "output_type": "execute_result",
          "data": {
            "text/plain": [
              "'python'"
            ],
            "application/vnd.google.colaboratory.intrinsic+json": {
              "type": "string"
            }
          },
          "metadata": {},
          "execution_count": 2
        }
      ],
      "source": [
        "#double quotes\n",
        "my_sub = \"python\"\n",
        "my_sub\n"
      ]
    },
    {
      "cell_type": "code",
      "execution_count": null,
      "metadata": {
        "colab": {
          "base_uri": "https://localhost:8080/"
        },
        "id": "r77SuNlPmr0v",
        "outputId": "4037cf99-33cb-4925-ce4b-3f2d725f063c"
      },
      "outputs": [
        {
          "output_type": "stream",
          "name": "stdout",
          "text": [
            "String built with double quotes\n"
          ]
        }
      ],
      "source": [
        "# We can also use double quote\n",
        "my_string = \"String built with double quotes\"\n",
        "print(my_string)   # Use the print command"
      ]
    },
    {
      "cell_type": "code",
      "source": [
        "# triple quotes\n",
        "my_city = '''New Delhi'''\n",
        "my_city"
      ],
      "metadata": {
        "colab": {
          "base_uri": "https://localhost:8080/",
          "height": 36
        },
        "id": "VyaN8DqUpTfQ",
        "outputId": "9b967a34-b896-41a8-a97e-4f750e633fc0"
      },
      "execution_count": null,
      "outputs": [
        {
          "output_type": "execute_result",
          "data": {
            "text/plain": [
              "'New Delhi'"
            ],
            "application/vnd.google.colaboratory.intrinsic+json": {
              "type": "string"
            }
          },
          "metadata": {},
          "execution_count": 4
        }
      ]
    },
    {
      "cell_type": "markdown",
      "metadata": {
        "id": "xuXCjPSGmr04"
      },
      "source": [
        "### How to print strings"
      ]
    },
    {
      "cell_type": "markdown",
      "metadata": {
        "id": "is3z5n_lmr04"
      },
      "source": [
        "* Using Jupyter notebook with just a string in a cell will automatically output strings, but the correct way to display strings in your output is by using a print function."
      ]
    },
    {
      "cell_type": "code",
      "execution_count": null,
      "metadata": {
        "colab": {
          "base_uri": "https://localhost:8080/",
          "height": 36
        },
        "id": "yBTUPuy1mr05",
        "outputId": "ea2d3dd8-6ae5-4319-d20e-d130458000d5"
      },
      "outputs": [
        {
          "output_type": "execute_result",
          "data": {
            "text/plain": [
              "'Deep learning'"
            ],
            "application/vnd.google.colaboratory.intrinsic+json": {
              "type": "string"
            }
          },
          "metadata": {},
          "execution_count": 5
        }
      ],
      "source": [
        "# We can simply declare a string\n",
        "\"Deep learning\""
      ]
    },
    {
      "cell_type": "code",
      "execution_count": null,
      "metadata": {
        "colab": {
          "base_uri": "https://localhost:8080/",
          "height": 36
        },
        "id": "zT7Fa4THmr08",
        "outputId": "7060c505-7178-4523-e89a-4c2b2a3b4589"
      },
      "outputs": [
        {
          "output_type": "execute_result",
          "data": {
            "text/plain": [
              "'deep learning'"
            ],
            "application/vnd.google.colaboratory.intrinsic+json": {
              "type": "string"
            }
          },
          "metadata": {},
          "execution_count": 6
        }
      ],
      "source": [
        "\"machine learning\"\n",
        "\"deep learning\"\n"
      ]
    },
    {
      "cell_type": "markdown",
      "metadata": {
        "id": "r0F7SS9Smr0_"
      },
      "source": [
        "### We can use the <code>print()</code> statement to print a string."
      ]
    },
    {
      "cell_type": "code",
      "execution_count": null,
      "metadata": {
        "colab": {
          "base_uri": "https://localhost:8080/"
        },
        "id": "eBQY27Yrmr1A",
        "outputId": "a0e3668f-c537-4219-ec54-79923ea8e7a0"
      },
      "outputs": [
        {
          "output_type": "stream",
          "name": "stdout",
          "text": [
            "Linear Algebra\n",
            "Calculus\n",
            "Use \n",
            " to print a \n",
            " new line\n",
            "\n",
            "\n",
            "See what \n",
            " I mean?\n"
          ]
        }
      ],
      "source": [
        "print('Linear Algebra')\n",
        "print('Calculus')\n",
        "print('Use \\n to print a \\n new line')\n",
        "print('\\n')\n",
        "print('See what \\n I mean?')"
      ]
    },
    {
      "cell_type": "markdown",
      "metadata": {
        "id": "vjXDmhwLmr1D"
      },
      "source": [
        "* We can also use a function called <code>len()</code> to check the length of a string!"
      ]
    },
    {
      "cell_type": "code",
      "execution_count": null,
      "metadata": {
        "colab": {
          "base_uri": "https://localhost:8080/"
        },
        "id": "otU_-I1Bmr1E",
        "outputId": "60d4cf09-befa-4a65-8aeb-c8e99e4e372a"
      },
      "outputs": [
        {
          "output_type": "execute_result",
          "data": {
            "text/plain": [
              "16"
            ]
          },
          "metadata": {},
          "execution_count": 8
        }
      ],
      "source": [
        "my_sub = \"Machine learning\"\n",
        "len(my_sub)"
      ]
    },
    {
      "cell_type": "markdown",
      "metadata": {
        "id": "wVMqyh4Gmr1G"
      },
      "source": [
        "### <b> Python's built-in len() function counts all of the characters in the string, including spaces and punctuation. </b>"
      ]
    },
    {
      "cell_type": "markdown",
      "metadata": {
        "id": "6XqIFlaYmr1H"
      },
      "source": [
        "### <u> String Indexing </u>\n",
        "\n",
        "* We know strings are a sequence, which means Python can use indexes to call parts of the sequence.\n",
        "\n",
        "\n",
        "* A string index refers to the location of an element present in a string.\n",
        "\n",
        "\n",
        "* The indexing begins from 0 in Python.\n",
        "\n",
        "\n",
        "* The first element is assigned an index 0, the second element is assigned an index of 1 and so on and so forth.\n",
        "\n",
        "\n",
        "* In Python, we use brackets <code>[]</code> after an object to call its index."
      ]
    },
    {
      "cell_type": "markdown",
      "metadata": {
        "id": "rHxN8nKNmr1N"
      },
      "source": [
        "* Let's start indexing!"
      ]
    },
    {
      "cell_type": "code",
      "execution_count": null,
      "metadata": {
        "id": "Xir_LR6EDHTP",
        "colab": {
          "base_uri": "https://localhost:8080/",
          "height": 36
        },
        "outputId": "3424cdaa-3a35-4bf3-9640-07552abca02e"
      },
      "outputs": [
        {
          "output_type": "execute_result",
          "data": {
            "text/plain": [
              "'M'"
            ],
            "application/vnd.google.colaboratory.intrinsic+json": {
              "type": "string"
            }
          },
          "metadata": {},
          "execution_count": 9
        }
      ],
      "source": [
        "my_sub = \"Machine learning\"\n",
        "my_sub[0]"
      ]
    },
    {
      "cell_type": "code",
      "source": [
        "my_sub[15]"
      ],
      "metadata": {
        "colab": {
          "base_uri": "https://localhost:8080/",
          "height": 36
        },
        "id": "yHDCQ6BjrEor",
        "outputId": "43822172-a6fe-4988-a433-1eaf866e860e"
      },
      "execution_count": null,
      "outputs": [
        {
          "output_type": "execute_result",
          "data": {
            "text/plain": [
              "'g'"
            ],
            "application/vnd.google.colaboratory.intrinsic+json": {
              "type": "string"
            }
          },
          "metadata": {},
          "execution_count": 10
        }
      ]
    },
    {
      "cell_type": "code",
      "source": [
        "my_sub[1]"
      ],
      "metadata": {
        "colab": {
          "base_uri": "https://localhost:8080/",
          "height": 36
        },
        "id": "RdbEKIeZrIKR",
        "outputId": "c5816c0f-bb3b-48ce-c62f-9e95d3aa7b75"
      },
      "execution_count": null,
      "outputs": [
        {
          "output_type": "execute_result",
          "data": {
            "text/plain": [
              "'a'"
            ],
            "application/vnd.google.colaboratory.intrinsic+json": {
              "type": "string"
            }
          },
          "metadata": {},
          "execution_count": 11
        }
      ]
    },
    {
      "cell_type": "code",
      "source": [
        "my_sub[-16]"
      ],
      "metadata": {
        "id": "peOdxSrxrMfi",
        "outputId": "dd2804a0-ddf3-4b56-e590-d41e97eade45",
        "colab": {
          "base_uri": "https://localhost:8080/",
          "height": 36
        }
      },
      "execution_count": null,
      "outputs": [
        {
          "output_type": "execute_result",
          "data": {
            "text/plain": [
              "'M'"
            ],
            "application/vnd.google.colaboratory.intrinsic+json": {
              "type": "string"
            }
          },
          "metadata": {},
          "execution_count": 12
        }
      ]
    },
    {
      "cell_type": "markdown",
      "metadata": {
        "id": "EhEAYjRnmr1U"
      },
      "source": [
        "### String Slicing"
      ]
    },
    {
      "cell_type": "markdown",
      "metadata": {
        "id": "3h7kltimmr1V"
      },
      "source": [
        "* We can use a <code>:</code> to perform *slicing* which grabs everything up to a designated point.\n",
        "\n",
        "\n",
        "* The starting index is specified on the left of the <code>:</code> and the ending index is specified on the right of the <code>:</code>.\n",
        "\n",
        "\n",
        "* Remember the element located at the right index is not included."
      ]
    },
    {
      "cell_type": "markdown",
      "metadata": {
        "id": "wI8WSykWmr1b"
      },
      "source": [
        "* If you do not specify the ending index, then all elements are extracted which comes after the starting index including the element at that starting index. The operation knows only to stop when it has run through the entire string."
      ]
    },
    {
      "cell_type": "code",
      "source": [],
      "metadata": {
        "id": "9gYj7PfLjSEz"
      },
      "execution_count": null,
      "outputs": []
    },
    {
      "cell_type": "markdown",
      "metadata": {
        "id": "BEPRya3tmr1e"
      },
      "source": [
        "* If you do not specify the starting index, then all elements are extracted which comes befores the ending index excluding the element at the specified ending index. The operation knows only to stop when it has extracted all elements before the  element at the ending index."
      ]
    },
    {
      "cell_type": "code",
      "execution_count": null,
      "metadata": {
        "id": "f92GKgPymr1e"
      },
      "outputs": [],
      "source": []
    },
    {
      "cell_type": "markdown",
      "metadata": {
        "id": "C8le5z8Bmr1h"
      },
      "source": [
        "* If you do not specify the starting and the ending index, it will extract all elements of the string."
      ]
    },
    {
      "cell_type": "code",
      "source": [],
      "metadata": {
        "id": "nadLU54UjYdr"
      },
      "execution_count": null,
      "outputs": []
    },
    {
      "cell_type": "markdown",
      "metadata": {
        "id": "l79g0xEgmr1j"
      },
      "source": [
        "* We can also use negative indexing to go backwards."
      ]
    },
    {
      "cell_type": "markdown",
      "metadata": {
        "id": "qTlCu2phmr11"
      },
      "source": [
        "## String Properties\n",
        "\n",
        "* It's important to note that strings have an important property known as *immutability*.\n",
        "\n",
        "\n",
        "* This means that once a string is created, the elements within it can not be changed.\n",
        "\n",
        "* string is concatenate, means we add the two string"
      ]
    },
    {
      "cell_type": "markdown",
      "metadata": {
        "id": "S3h79CMjmr17"
      },
      "source": [
        "* To convert an integer into a string, you can use the <code>str()</code> function or you can simply write the number in quotes"
      ]
    },
    {
      "cell_type": "markdown",
      "metadata": {
        "id": "duTA9_hlmr2C"
      },
      "source": [
        "## String functions and methods"
      ]
    },
    {
      "cell_type": "markdown",
      "metadata": {
        "id": "03n7vTXRmr2E"
      },
      "source": [
        "### <code>len()</code>\n",
        "\n",
        "* <code>len()</code> function returns the length of the string"
      ]
    },
    {
      "cell_type": "code",
      "execution_count": null,
      "metadata": {
        "colab": {
          "base_uri": "https://localhost:8080/"
        },
        "id": "At6CdDUgmr2F",
        "outputId": "5ee168ec-c86c-4170-c09b-9f2eebfeb99a"
      },
      "outputs": [
        {
          "output_type": "execute_result",
          "data": {
            "text/plain": [
              "15"
            ]
          },
          "metadata": {},
          "execution_count": 3
        }
      ],
      "source": [
        "# Print the length of the string\n",
        "len(algorithm)"
      ]
    },
    {
      "cell_type": "code",
      "execution_count": null,
      "metadata": {
        "colab": {
          "base_uri": "https://localhost:8080/"
        },
        "id": "gB3hjFrzPy4S",
        "outputId": "f207569a-e63a-444e-e27b-7a3da996f4cd"
      },
      "outputs": [
        {
          "name": "stdout",
          "output_type": "stream",
          "text": [
            "Neural Networke\n"
          ]
        }
      ],
      "source": [
        "print(algorithm)"
      ]
    },
    {
      "cell_type": "markdown",
      "metadata": {
        "id": "cF2zYtzdmr2G"
      },
      "source": [
        "###  <code>lower()</code>\n",
        "\n",
        "* <code>lower()</code> method converts the string to lowercase"
      ]
    },
    {
      "cell_type": "markdown",
      "metadata": {
        "id": "858z5CKZmr2J"
      },
      "source": [
        "* <u> What about <code>lower(algorithm)</code>? Is it not similar to the <code>len()</code>function?</u>\n",
        "\n",
        "\n",
        "* <u> An important point to note here is <code>len()</code> is a function and <code>lower()</code> is a method for a string object. It will be pretty clear about the exact differences between a function and a method as we move ahead. </u>"
      ]
    },
    {
      "cell_type": "markdown",
      "metadata": {
        "id": "Uk9EwCKRmr2L"
      },
      "source": [
        "###  <code>upper()</code>\n",
        "\n",
        "* <code>upper()</code> method converts the string to uppercase"
      ]
    },
    {
      "cell_type": "markdown",
      "metadata": {
        "id": "ikQx6g8tmr2P"
      },
      "source": [
        "### <code>count()</code>\n",
        "\n",
        "*  <code>count()</code> method returns the count of a string in the given string. Unlike <code>lower()</code> and <code>upper()</code> method, the <code>count()</code> method takes a string as an argument"
      ]
    },
    {
      "cell_type": "markdown",
      "metadata": {
        "id": "YPKnWGBFmr2k"
      },
      "source": [
        "### <code>find()</code>\n",
        "\n",
        "* <code>find()</code> method returns the index of the first occurrence of a string present in a given string. Similar to the <code>count()</code> method, the <code>find()</code> method takes a string as an argument"
      ]
    },
    {
      "cell_type": "markdown",
      "metadata": {
        "id": "QnIAoEnEmr2t"
      },
      "source": [
        "* <u>An important point to note here is that if the string which you are looking for, is not contained in the original string, then the find method will return a value of -1 </u>"
      ]
    },
    {
      "cell_type": "markdown",
      "metadata": {
        "id": "-Q_dsma-mr2t"
      },
      "source": [
        "### <code>replace()</code>\n",
        "\n",
        "*  <code>replace()</code> method takes two arguments - (i) the string to replace and (ii) the string to replace with, and returns a modified string after the operation"
      ]
    },
    {
      "cell_type": "markdown",
      "metadata": {
        "id": "s2Mh-mbimr22"
      },
      "source": [
        "* <u>Another important point worth noting here is applying any method on a string does not actually change the original string. For example, when you print out the algorithm string, it still contains the original value 'Neural Networks'</u>\n",
        "\n",
        "\n",
        "* <u> We need to store the modified string in another variable"
      ]
    },
    {
      "cell_type": "markdown",
      "metadata": {
        "id": "uOh2_4hKmr24"
      },
      "source": [
        "### Printing strings a bit differently"
      ]
    },
    {
      "cell_type": "code",
      "execution_count": null,
      "metadata": {
        "id": "qIHd9TJ_RTZs"
      },
      "outputs": [],
      "source": []
    },
    {
      "cell_type": "markdown",
      "metadata": {
        "id": "B6x3RSMkmr3A"
      },
      "source": [
        "### Check if a string contains a particular word or character"
      ]
    },
    {
      "cell_type": "code",
      "execution_count": null,
      "metadata": {
        "id": "gvQUggfjD_YF"
      },
      "outputs": [],
      "source": []
    },
    {
      "cell_type": "code",
      "execution_count": null,
      "metadata": {
        "id": "JzPleTFyEtyC"
      },
      "outputs": [],
      "source": []
    }
  ],
  "metadata": {
    "colab": {
      "collapsed_sections": [
        "6XqIFlaYmr1H",
        "EhEAYjRnmr1U",
        "03n7vTXRmr2E",
        "cF2zYtzdmr2G",
        "Uk9EwCKRmr2L",
        "ikQx6g8tmr2P",
        "YPKnWGBFmr2k",
        "-Q_dsma-mr2t",
        "uOh2_4hKmr24",
        "B6x3RSMkmr3A"
      ],
      "provenance": [],
      "include_colab_link": true
    },
    "kernelspec": {
      "display_name": "Python 3",
      "language": "python",
      "name": "python3"
    },
    "language_info": {
      "codemirror_mode": {
        "name": "ipython",
        "version": 3
      },
      "file_extension": ".py",
      "mimetype": "text/x-python",
      "name": "python",
      "nbconvert_exporter": "python",
      "pygments_lexer": "ipython3",
      "version": "3.7.4"
    }
  },
  "nbformat": 4,
  "nbformat_minor": 0
}