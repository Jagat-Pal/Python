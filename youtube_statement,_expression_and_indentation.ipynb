{
  "nbformat": 4,
  "nbformat_minor": 0,
  "metadata": {
    "colab": {
      "provenance": [],
      "authorship_tag": "ABX9TyMzlpuwmLlERdedm8GXZoUQ",
      "include_colab_link": true
    },
    "kernelspec": {
      "name": "python3",
      "display_name": "Python 3"
    },
    "language_info": {
      "name": "python"
    }
  },
  "cells": [
    {
      "cell_type": "markdown",
      "metadata": {
        "id": "view-in-github",
        "colab_type": "text"
      },
      "source": [
        "<a href=\"https://colab.research.google.com/github/Jagat-Pal/Python/blob/main/youtube_statement%2C_expression_and_indentation.ipynb\" target=\"_parent\"><img src=\"https://colab.research.google.com/assets/colab-badge.svg\" alt=\"Open In Colab\"/></a>"
      ]
    },
    {
      "cell_type": "markdown",
      "source": [
        "**Statement**\n",
        "\n",
        "  1.A Statement is an instruction that the Python interpreter can execute.\n",
        "2. We have only seen the assignment statement so far.\n",
        "\n",
        "3. Some other kinds of statements that we’ll see shortly are while statements, for statements, if statements, and import statements"
      ],
      "metadata": {
        "id": "rUYc9iMN-oNc"
      }
    },
    {
      "cell_type": "code",
      "source": [
        "x = 45"
      ],
      "metadata": {
        "id": "OjwP5u9W71Mu"
      },
      "execution_count": 19,
      "outputs": []
    },
    {
      "cell_type": "code",
      "source": [
        "import numpy as np"
      ],
      "metadata": {
        "id": "ceBgxL9xeslg"
      },
      "execution_count": 20,
      "outputs": []
    },
    {
      "cell_type": "markdown",
      "source": [
        "**Expression**\n",
        "\n",
        "1 An Expression is a combination of values, variables, operators, and calls to functions.\n",
        "\n",
        "2 Expressions need to be evaluated.\n",
        "\n",
        "3 If you ask Python to print an expression, the interpreter evaluates the expression and displays the result."
      ],
      "metadata": {
        "id": "_hodHBkAAFKr"
      }
    },
    {
      "cell_type": "code",
      "source": [
        "x = 45\n",
        "print(x)"
      ],
      "metadata": {
        "colab": {
          "base_uri": "https://localhost:8080/"
        },
        "id": "bIO6SRQJeFlZ",
        "outputId": "553a9234-ba6c-48cf-c874-915fca537ffd"
      },
      "execution_count": 21,
      "outputs": [
        {
          "output_type": "stream",
          "name": "stdout",
          "text": [
            "45\n"
          ]
        }
      ]
    },
    {
      "cell_type": "markdown",
      "source": [
        "**Multi-line Statements**"
      ],
      "metadata": {
        "id": "YIraMV3iCSCq"
      }
    },
    {
      "cell_type": "code",
      "source": [
        "y = (1+2+3+4\n",
        "     +5+7\n",
        "     +8+9\n",
        "     +10)"
      ],
      "metadata": {
        "id": "HHm4rGlLeDV8"
      },
      "execution_count": 22,
      "outputs": []
    },
    {
      "cell_type": "markdown",
      "source": [
        "In Python, line continuation is implied inside parentheses ( ), brackets [ ], and braces { }. For instance, we can implement the above multi-line statement as:"
      ],
      "metadata": {
        "id": "xRrX5Z41Cp9g"
      }
    },
    {
      "cell_type": "code",
      "source": [],
      "metadata": {
        "id": "2hZtfxrTDKmI"
      },
      "execution_count": null,
      "outputs": []
    },
    {
      "cell_type": "markdown",
      "source": [
        "###multiple satement in single line"
      ],
      "metadata": {
        "id": "aCUD3nEVd1zg"
      }
    },
    {
      "cell_type": "code",
      "source": [
        "a, b, c, d = 10,20,30,40\n",
        "a"
      ],
      "metadata": {
        "id": "POWH8skfDjFv",
        "colab": {
          "base_uri": "https://localhost:8080/"
        },
        "outputId": "31e6d396-6da6-47f0-bc19-1d535950e2a5"
      },
      "execution_count": 23,
      "outputs": [
        {
          "output_type": "execute_result",
          "data": {
            "text/plain": [
              "10"
            ]
          },
          "metadata": {},
          "execution_count": 23
        }
      ]
    },
    {
      "cell_type": "markdown",
      "source": [
        "**Identation**"
      ],
      "metadata": {
        "id": "coPngMf-LnXS"
      }
    },
    {
      "cell_type": "markdown",
      "source": [
        "It is refers to the spaces at the begining of a code line.\n",
        "\n",
        "python use identation to indicate a block of code."
      ],
      "metadata": {
        "id": "Clu6UgFgLuLr"
      }
    },
    {
      "cell_type": "code",
      "source": [
        "for i in range(9):\n",
        "  pass\n",
        "\n",
        ""
      ],
      "metadata": {
        "id": "hqEcczzmWjpy"
      },
      "execution_count": 25,
      "outputs": []
    },
    {
      "cell_type": "markdown",
      "source": [
        "**Conditional Statements**"
      ],
      "metadata": {
        "id": "EvZ4lAibDkTh"
      }
    },
    {
      "cell_type": "markdown",
      "source": [
        "1 if Statements in Python allows us to tell the computer to perform alternative actions based on a certain set of results.\n",
        "\n",
        "2 Verbally, we can imagine we are telling the computer:\"Hey if this case happens, perform some action\"\n",
        "\n",
        "3 We can then expand the idea further with elif and else statements, which allow us to tell the computer: \"Hey if this case happens, perform some action. Else, if another case happens, perform some other action. Else, if none of the above cases happened, perform this action.\""
      ],
      "metadata": {
        "id": "OkMLQ0fqD3ef"
      }
    },
    {
      "cell_type": "markdown",
      "source": [
        "**Syntax**"
      ],
      "metadata": {
        "id": "LGD4zfLhESmI"
      }
    },
    {
      "cell_type": "markdown",
      "source": [
        "if case1:\n",
        "\n",
        "    perform action1\n",
        "\n",
        "elif case2:\n",
        "\n",
        "     perform action2\n",
        "else:\n",
        "\n",
        "     perform action3"
      ],
      "metadata": {
        "id": "a9QRnNfzEW7Y"
      }
    },
    {
      "cell_type": "markdown",
      "source": [
        "if statement evaluates the True condition"
      ],
      "metadata": {
        "id": "MpD_BjaeEtW2"
      }
    },
    {
      "cell_type": "markdown",
      "source": [
        "2 Let's create two more simple examples for the if, elif, and else statements:"
      ],
      "metadata": {
        "id": "E6JsYgwSF1I3"
      }
    },
    {
      "cell_type": "code",
      "source": [
        "x = 10\n",
        "if x==10:\n",
        "  print(2*x)"
      ],
      "metadata": {
        "colab": {
          "base_uri": "https://localhost:8080/"
        },
        "id": "9J12ine6gI8c",
        "outputId": "00f4cc6e-b0d7-4bb6-b39d-b8525cd135ef"
      },
      "execution_count": 26,
      "outputs": [
        {
          "output_type": "stream",
          "name": "stdout",
          "text": [
            "20\n"
          ]
        }
      ]
    },
    {
      "cell_type": "code",
      "source": [
        "x = 5\n",
        "if x > 5:\n",
        "  print(\"x is greater than 5\")\n",
        "elif x==5:\n",
        "  print(\"x is equal to 5\")"
      ],
      "metadata": {
        "colab": {
          "base_uri": "https://localhost:8080/"
        },
        "id": "jAfFRhWegTSX",
        "outputId": "80c4af6e-f3b8-4d22-c871-da2062f67536"
      },
      "execution_count": 27,
      "outputs": [
        {
          "output_type": "stream",
          "name": "stdout",
          "text": [
            "x is equal to 5\n"
          ]
        }
      ]
    },
    {
      "cell_type": "code",
      "source": [
        "x = 5\n",
        "if x > 5:\n",
        "  print(\"x is greater than 5\")\n",
        "elif x<5:\n",
        "  print(\"x smaller than 5\")\n",
        "else:\n",
        "  print(\"x is equal to 5\")"
      ],
      "metadata": {
        "colab": {
          "base_uri": "https://localhost:8080/"
        },
        "id": "63zuZqodglo0",
        "outputId": "f962217c-9e37-4d93-defd-ca04c6a3104a"
      },
      "execution_count": 29,
      "outputs": [
        {
          "output_type": "stream",
          "name": "stdout",
          "text": [
            "x is equal to 5\n"
          ]
        }
      ]
    }
  ]
}